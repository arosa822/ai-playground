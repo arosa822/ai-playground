{
 "cells": [
  {
   "cell_type": "code",
   "execution_count": null,
   "id": "c73cd83d-9ab9-470d-a5d9-2fd1bb61e6bb",
   "metadata": {
    "tags": []
   },
   "outputs": [],
   "source": [
    "pip install torch transformers accelerate sentence-transformers faiss-cpu"
   ]
  },
  {
   "cell_type": "code",
   "execution_count": null,
   "id": "54a04478-b304-40e9-9d8e-2e2bd8b96184",
   "metadata": {
    "tags": []
   },
   "outputs": [],
   "source": [
    "# Load the model\n",
    "from transformers import AutoModelForCausalLM, AutoTokenizer\n",
    "\n",
    "model_name = \"ZeroXClem/Llama-3.1-8B-Athena-Apollo-exp\"\n",
    "\n",
    "tokenizer = AutoTokenizer.from_pretrained(model_name)\n",
    "model = AutoModelForCausalLM.from_pretrained(model_name, torch_dtype=\"auto\", device_map=\"auto\")\n"
   ]
  },
  {
   "cell_type": "code",
   "execution_count": null,
   "id": "37feb4b7-3a68-4a50-b389-243d0b7c0f76",
   "metadata": {
    "tags": []
   },
   "outputs": [],
   "source": [
    "# Test the Model\n",
    "prompt = \"Explain quantum entanglement like I'm 10 years old.\"\n",
    "inputs = tokenizer(prompt, return_tensors=\"pt\").to(model.device)\n",
    "outputs = model.generate(**inputs, max_new_tokens=200)\n",
    "print(tokenizer.decode(outputs[0], skip_special_tokens=True))"
   ]
  },
  {
   "cell_type": "code",
   "execution_count": null,
   "id": "925e797c-8603-440c-a9d1-61d4f3bb562f",
   "metadata": {
    "tags": []
   },
   "outputs": [],
   "source": [
    "# Load and chunk the log file\n",
    "\n",
    "from pathlib import Path\n",
    "\n",
    "# Load your log file\n",
    "log_path = Path(\"/workspace/ai-playground/data/sample_log.txt\")\n",
    "log_text = log_path.read_text()\n",
    "\n",
    "# Simple chunking by lines or size\n",
    "chunk_size = 500  # characters or adjust based on token estimates\n",
    "chunks = [log_text[i:i+chunk_size] for i in range(0, len(log_text), chunk_size)]\n"
   ]
  },
  {
   "cell_type": "code",
   "execution_count": null,
   "id": "e7f341de-5875-446a-9ee9-313cf7af6ad2",
   "metadata": {
    "tags": []
   },
   "outputs": [],
   "source": [
    "# embed the chunks for search\n",
    "from sentence_transformers import SentenceTransformer\n",
    "import faiss\n",
    "import numpy as np\n",
    "\n",
    "# Use a sentence-transformer for embedding chunks\n",
    "embedder = SentenceTransformer(\"all-MiniLM-L6-v2\")\n",
    "embeddings = embedder.encode(chunks)\n",
    "\n",
    "# Create FAISS index\n",
    "dimension = embeddings.shape[1]\n",
    "index = faiss.IndexFlatL2(dimension)\n",
    "index.add(np.array(embeddings))"
   ]
  },
  {
   "cell_type": "code",
   "execution_count": null,
   "id": "bb1a3cdd-fd1f-4f64-b4bc-e439b2b20a76",
   "metadata": {
    "tags": []
   },
   "outputs": [],
   "source": [
    "# define a query + retrieve relavant chunks\n",
    "def retrieve_chunks(query, top_k=3):\n",
    "    query_embedding = embedder.encode([query])\n",
    "    distances, indices = index.search(query_embedding, top_k)\n",
    "    return [chunks[i] for i in indices[0]]\n",
    "\n",
    "query = \"What are the main errors in the test log?\"\n",
    "retrieved_context = \"\\n\".join(retrieve_chunks(query))"
   ]
  },
  {
   "cell_type": "code",
   "execution_count": null,
   "id": "70ccb01c-18b7-4c98-93ee-1a4a959e9d9e",
   "metadata": {
    "tags": []
   },
   "outputs": [],
   "source": [
    "# set the model prompt\n",
    "prompt = f\"\"\"You are a helpful assistant reading test logs.\n",
    "\n",
    "Context:\n",
    "{retrieved_context}\n",
    "\n",
    "Question: {query}\n",
    "Answer:\"\"\""
   ]
  },
  {
   "cell_type": "code",
   "execution_count": null,
   "id": "9985bd5a-9083-48e7-8cae-f8ce2cd00d5e",
   "metadata": {
    "tags": []
   },
   "outputs": [],
   "source": [
    "inputs = tokenizer(prompt, return_tensors=\"pt\").to(model.device)\n",
    "outputs = model.generate(**inputs, max_new_tokens=300)\n",
    "print(tokenizer.decode(outputs[0], skip_special_tokens=True))"
   ]
  },
  {
   "cell_type": "code",
   "execution_count": null,
   "id": "efaf0a15-fc08-4a9d-827d-9f54809d5bb6",
   "metadata": {},
   "outputs": [],
   "source": []
  }
 ],
 "metadata": {
  "kernelspec": {
   "display_name": "Python 3 (ipykernel)",
   "language": "python",
   "name": "python3"
  },
  "language_info": {
   "codemirror_mode": {
    "name": "ipython",
    "version": 3
   },
   "file_extension": ".py",
   "mimetype": "text/x-python",
   "name": "python",
   "nbconvert_exporter": "python",
   "pygments_lexer": "ipython3",
   "version": "3.10.12"
  }
 },
 "nbformat": 4,
 "nbformat_minor": 5
}
